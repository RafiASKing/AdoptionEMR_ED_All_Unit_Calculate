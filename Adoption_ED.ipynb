{
  "cells": [
    {
      "cell_type": "markdown",
      "metadata": {
        "colab_type": "text",
        "id": "view-in-github"
      },
      "source": [
        "<a href=\"https://colab.research.google.com/github/RafiASKing/AdoptionEMR_ED_All_Unit_Calculate/blob/main/Adoption_ED.ipynb\" target=\"_parent\"><img src=\"https://colab.research.google.com/assets/colab-badge.svg\" alt=\"Open In Colab\"/></a>"
      ]
    },
    {
      "cell_type": "markdown",
      "metadata": {
        "id": "xg6v_wRZEuQG"
      },
      "source": [
        "#Start"
      ]
    },
    {
      "cell_type": "code",
      "execution_count": null,
      "metadata": {
        "colab": {
          "base_uri": "https://localhost:8080/"
        },
        "id": "m-Fooqj9DcZj",
        "outputId": "dd2a08ae-6ec4-4147-aacc-93846676b45e"
      },
      "outputs": [
        {
          "name": "stdout",
          "output_type": "stream",
          "text": [
            "Berhasil: data triage & discharge terbaca.\n"
          ]
        }
      ],
      "source": [
        "import pandas as pd\n",
        "import os\n",
        "\n",
        "try:\n",
        "    import config  # noqa: F401\n",
        "except ModuleNotFoundError:\n",
        "    raise SystemExit(\"Config file not found. Copy 'config_example.py' to 'config.py' and edit paths.\")\n",
        "\n",
        "path_triage = config.path_triage\n",
        "path_discharge = config.path_discharge\n",
        "custom_order = config.custom_order\n",
        "output_path = config.output_path\n",
        "\n",
        "if not os.path.exists(path_triage):\n",
        "    raise FileNotFoundError(f'Triage file not found: {path_triage}')\n",
        "if not os.path.exists(path_discharge):\n",
        "    raise FileNotFoundError(f'Discharge file not found: {path_discharge}')\n",
        "\n",
        "df_triage = pd.read_csv(path_triage)\n",
        "df_discharge = pd.read_csv(path_discharge)\n",
        "\n",
        "if isinstance(df_triage, pd.DataFrame) and isinstance(df_discharge, pd.DataFrame):\n",
        "    print('Berhasil: data triage & discharge terbaca.')"
      ]
    },
    {
      "cell_type": "markdown",
      "metadata": {
        "id": "imGfWYCLKEFJ"
      },
      "source": [
        "# Clean and Gabungkan"
      ]
    },
    {
      "cell_type": "markdown",
      "metadata": {
        "id": "41Sxg34dKG3K"
      },
      "source": [
        "Masing-masing kepala"
      ]
    },
    {
      "cell_type": "code",
      "execution_count": null,
      "metadata": {
        "colab": {
          "base_uri": "https://localhost:8080/",
          "height": 206
        },
        "id": "MHr7VKjJKIts",
        "outputId": "77ede096-b087-4709-882a-1b8308726962"
      },
      "outputs": [],
      "source": [
        "df_triage.head()"
      ]
    },
    {
      "cell_type": "code",
      "execution_count": null,
      "metadata": {
        "colab": {
          "base_uri": "https://localhost:8080/",
          "height": 206
        },
        "id": "17ThEFqiMlos",
        "outputId": "3f0b5bba-8e60-401b-9e03-decbf03a542e"
      },
      "outputs": [],
      "source": [
        "df_triage.tail()"
      ]
    },
    {
      "cell_type": "code",
      "execution_count": null,
      "metadata": {
        "colab": {
          "base_uri": "https://localhost:8080/",
          "height": 206
        },
        "id": "-3QD2ZaAKMvp",
        "outputId": "d4cf0b7d-82ba-4c91-f8f4-42bcb0e40125"
      },
      "outputs": [],
      "source": [
        "df_discharge.head()"
      ]
    },
    {
      "cell_type": "code",
      "execution_count": null,
      "metadata": {
        "colab": {
          "base_uri": "https://localhost:8080/",
          "height": 206
        },
        "id": "qtRYqbsFMpD5",
        "outputId": "0ef4d82c-3704-418a-8790-52af65c4daa3"
      },
      "outputs": [],
      "source": [
        "df_discharge.tail()"
      ]
    },
    {
      "cell_type": "markdown",
      "metadata": {
        "id": "6x-Ve3sVKuUc"
      },
      "source": [
        "Hapus kolom gak penting"
      ]
    },
    {
      "cell_type": "code",
      "execution_count": 8,
      "metadata": {
        "id": "Mz6e3gDdKXtO"
      },
      "outputs": [],
      "source": [
        "df_triage.drop('Date', axis=1, inplace=True)\n",
        "df_triage.drop('Archetype', axis=1, inplace=True)\n",
        "df_triage.drop('Target', axis=1, inplace=True)\n",
        "df_triage.drop('Adoption Rate Triage', axis=1, inplace=True)\n",
        "df_discharge.drop('Date', axis=1, inplace=True)\n",
        "df_discharge.drop('Archetype', axis=1, inplace=True)\n",
        "df_discharge.drop('Target', axis=1, inplace=True)\n",
        "df_discharge.drop('Adoption Rate Dishcarge', axis=1, inplace=True)"
      ]
    },
    {
      "cell_type": "markdown",
      "metadata": {
        "id": "7wGxzbWUL6yD"
      },
      "source": [
        "Cek"
      ]
    },
    {
      "cell_type": "code",
      "execution_count": null,
      "metadata": {
        "colab": {
          "base_uri": "https://localhost:8080/",
          "height": 206
        },
        "id": "PA7xs2aLL7g0",
        "outputId": "12bafb61-adc8-4a2a-d368-1eb7121dce81"
      },
      "outputs": [],
      "source": [
        "df_triage.head()"
      ]
    },
    {
      "cell_type": "code",
      "execution_count": null,
      "metadata": {
        "colab": {
          "base_uri": "https://localhost:8080/",
          "height": 206
        },
        "id": "kpDk9IB8MHKa",
        "outputId": "451e6d6e-fd9b-48d1-b7b7-15efcd1a33fe"
      },
      "outputs": [],
      "source": [
        "df_discharge.head()"
      ]
    },
    {
      "cell_type": "markdown",
      "metadata": {
        "id": "PyW0ZdIaP4QR"
      },
      "source": [
        "Agregatkan"
      ]
    },
    {
      "cell_type": "code",
      "execution_count": 11,
      "metadata": {
        "id": "g6SJXGqWNBh-"
      },
      "outputs": [],
      "source": [
        "df_triage_units = df_triage.groupby('Hospital Code')[['HOPE ED', 'EMR ED']].sum()\n",
        "df_discharge_units = df_discharge.groupby('Hospital Code')[['Discharge HOPE ED', 'Discharge EMR ED']].sum()"
      ]
    },
    {
      "cell_type": "markdown",
      "metadata": {
        "id": "frs3xb0ER4tB"
      },
      "source": [
        "cek"
      ]
    },
    {
      "cell_type": "code",
      "execution_count": null,
      "metadata": {
        "colab": {
          "base_uri": "https://localhost:8080/",
          "height": 237
        },
        "id": "Q7ulw9LcP8JK",
        "outputId": "7465367d-b5dc-4133-a720-7fe5720277d5"
      },
      "outputs": [],
      "source": [
        "df_triage_units.head()"
      ]
    },
    {
      "cell_type": "code",
      "execution_count": null,
      "metadata": {
        "colab": {
          "base_uri": "https://localhost:8080/",
          "height": 237
        },
        "id": "PbCJqbfjQ2cz",
        "outputId": "6c89e077-3006-4f8d-c31b-f233fb340b5b"
      },
      "outputs": [],
      "source": [
        "df_discharge_units.head()"
      ]
    },
    {
      "cell_type": "code",
      "execution_count": null,
      "metadata": {
        "colab": {
          "base_uri": "https://localhost:8080/",
          "height": 237
        },
        "id": "UKN8mYxYR6vQ",
        "outputId": "a74cedee-6f28-4ed3-80a3-1d862895bfaf"
      },
      "outputs": [],
      "source": [
        "df_combined = pd.merge(df_triage_units, df_discharge_units, on='Hospital Code', how='inner')\n",
        "df_combined.head()"
      ]
    },
    {
      "cell_type": "markdown",
      "metadata": {
        "id": "_DKRyRc3SiFW"
      },
      "source": [
        "# Process persen"
      ]
    },
    {
      "cell_type": "code",
      "execution_count": null,
      "metadata": {
        "colab": {
          "base_uri": "https://localhost:8080/",
          "height": 237
        },
        "id": "FMB74fTyShwJ",
        "outputId": "3a9e81bd-c1af-4a41-cf66-b806f8694b5b"
      },
      "outputs": [],
      "source": [
        "df_combined.head()"
      ]
    },
    {
      "cell_type": "markdown",
      "metadata": {
        "id": "wN-qHNSIWOVH"
      },
      "source": [
        "Bersih2"
      ]
    },
    {
      "cell_type": "code",
      "execution_count": 16,
      "metadata": {
        "id": "vCEEbYORSoen"
      },
      "outputs": [],
      "source": [
        "df_combined.columns = df_combined.columns.str.strip()"
      ]
    },
    {
      "cell_type": "markdown",
      "metadata": {
        "id": "v9Bs5FsXWPrH"
      },
      "source": [
        "tamba kolomm"
      ]
    },
    {
      "cell_type": "code",
      "execution_count": 17,
      "metadata": {
        "id": "5-smmA-oVfMk"
      },
      "outputs": [],
      "source": [
        "df_combined['Percent Triage'] = ((df_combined['EMR ED'] / df_combined['HOPE ED']) * 1)\n",
        "df_combined['Percent Discharge'] = ((df_combined['Discharge EMR ED'] / df_combined['Discharge HOPE ED']) * 1)"
      ]
    },
    {
      "cell_type": "markdown",
      "metadata": {
        "id": "5VAPTlqVX5P7"
      },
      "source": [
        "Data Jadi"
      ]
    },
    {
      "cell_type": "code",
      "execution_count": null,
      "metadata": {
        "colab": {
          "base_uri": "https://localhost:8080/",
          "height": 613
        },
        "id": "ll3EVISRWG_I",
        "outputId": "d01ca67a-c96a-4c27-fe89-257240520dea"
      },
      "outputs": [],
      "source": [
        "df_combined.head(17)"
      ]
    },
    {
      "cell_type": "markdown",
      "metadata": {
        "id": "0MpZ0LWXZK5e"
      },
      "source": [
        "Merapihkan"
      ]
    },
    {
      "cell_type": "code",
      "execution_count": null,
      "metadata": {
        "colab": {
          "base_uri": "https://localhost:8080/"
        },
        "id": "0JDH1gm0aRjT",
        "outputId": "37df32a0-9811-438e-c7f8-07475c1a0326"
      },
      "outputs": [],
      "source": [
        "print(df_combined.index)"
      ]
    },
    {
      "cell_type": "code",
      "execution_count": null,
      "metadata": {
        "colab": {
          "base_uri": "https://localhost:8080/"
        },
        "id": "fDwi9KoEZeLj",
        "outputId": "2eda5770-b77f-4577-ea50-677a505ad2b1"
      },
      "outputs": [],
      "source": [
        "# Convert the INDEX to a Categorical data type with the specified order\n",
        "df_combined.index = pd.Categorical(df_combined.index, categories=custom_order, ordered=True)\n",
        "\n",
        "# Sort the DataFrame by its index\n",
        "df_combined = df_combined.sort_index()\n",
        "\n",
        "print(df_combined)"
      ]
    },
    {
      "cell_type": "markdown",
      "metadata": {
        "id": "YS7N4M0jazFl"
      },
      "source": [
        "#Export"
      ]
    },
    {
      "cell_type": "code",
      "execution_count": null,
      "metadata": {
        "colab": {
          "base_uri": "https://localhost:8080/"
        },
        "id": "xKfZarI9a0Xk",
        "outputId": "7d2e1c6c-2a82-4a47-b885-3b1e649b72c9"
      },
      "outputs": [],
      "source": [
        "df_combined.to_excel(output_path, index=True)\n",
        "print(f\"DataFrame berhasil diekspor ke '{output_path}'\")"
      ]
    }
  ],
  "metadata": {
    "colab": {
      "authorship_tag": "ABX9TyOZKCQhId73udsFDrh3bbv4",
      "include_colab_link": true,
      "provenance": []
    },
    "kernelspec": {
      "display_name": "Python 3",
      "name": "python3"
    },
    "language_info": {
      "codemirror_mode": {
        "name": "ipython",
        "version": 3
      },
      "file_extension": ".py",
      "mimetype": "text/x-python",
      "name": "python",
      "nbconvert_exporter": "python",
      "pygments_lexer": "ipython3",
      "version": "3.13.5"
    }
  },
  "nbformat": 4,
  "nbformat_minor": 0
}
